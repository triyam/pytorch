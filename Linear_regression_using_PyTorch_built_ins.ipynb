{
  "nbformat": 4,
  "nbformat_minor": 0,
  "metadata": {
    "colab": {
      "name": "Linear regression using PyTorch built-ins.ipynb",
      "provenance": []
    },
    "kernelspec": {
      "name": "python3",
      "display_name": "Python 3"
    },
    "language_info": {
      "name": "python"
    }
  },
  "cells": [
    {
      "cell_type": "code",
      "metadata": {
        "id": "07wG1kjiApDQ"
      },
      "source": [
        "import torch.nn as nn\n",
        "import torch\n",
        "import numpy as np"
      ],
      "execution_count": 3,
      "outputs": []
    },
    {
      "cell_type": "code",
      "metadata": {
        "id": "_7tXxZniM-2t"
      },
      "source": [
        "# Input (temp, rainfall, humidity)\n",
        "inputs = np.array([[73, 67, 43], \n",
        "                   [91, 88, 64], \n",
        "                   [87, 134, 58], \n",
        "                   [102, 43, 37], \n",
        "                   [69, 96, 70], \n",
        "                   [74, 66, 43], \n",
        "                   [91, 87, 65], \n",
        "                   [88, 134, 59], \n",
        "                   [101, 44, 37], \n",
        "                   [68, 96, 71], \n",
        "                   [73, 66, 44], \n",
        "                   [92, 87, 64], \n",
        "                   [87, 135, 57], \n",
        "                   [103, 43, 36], \n",
        "                   [68, 97, 70]], \n",
        "                  dtype='float32')\n",
        "\n",
        "# Targets (apples, oranges)\n",
        "targets = np.array([[56, 70], \n",
        "                    [81, 101], \n",
        "                    [119, 133], \n",
        "                    [22, 37], \n",
        "                    [103, 119],\n",
        "                    [57, 69], \n",
        "                    [80, 102], \n",
        "                    [118, 132], \n",
        "                    [21, 38], \n",
        "                    [104, 118], \n",
        "                    [57, 69], \n",
        "                    [82, 100], \n",
        "                    [118, 134], \n",
        "                    [20, 38], \n",
        "                    [102, 120]], \n",
        "                   dtype='float32')\n",
        "\n",
        "inputs = torch.from_numpy(inputs)\n",
        "targets = torch.from_numpy(targets)"
      ],
      "execution_count": 4,
      "outputs": []
    },
    {
      "cell_type": "code",
      "metadata": {
        "colab": {
          "base_uri": "https://localhost:8080/"
        },
        "id": "VtO4qeqtNHuN",
        "outputId": "f0dc9601-fd4f-4a89-8e67-7662b7ac0445"
      },
      "source": [
        "inputs"
      ],
      "execution_count": 5,
      "outputs": [
        {
          "output_type": "execute_result",
          "data": {
            "text/plain": [
              "tensor([[ 73.,  67.,  43.],\n",
              "        [ 91.,  88.,  64.],\n",
              "        [ 87., 134.,  58.],\n",
              "        [102.,  43.,  37.],\n",
              "        [ 69.,  96.,  70.],\n",
              "        [ 74.,  66.,  43.],\n",
              "        [ 91.,  87.,  65.],\n",
              "        [ 88., 134.,  59.],\n",
              "        [101.,  44.,  37.],\n",
              "        [ 68.,  96.,  71.],\n",
              "        [ 73.,  66.,  44.],\n",
              "        [ 92.,  87.,  64.],\n",
              "        [ 87., 135.,  57.],\n",
              "        [103.,  43.,  36.],\n",
              "        [ 68.,  97.,  70.]])"
            ]
          },
          "metadata": {
            "tags": []
          },
          "execution_count": 5
        }
      ]
    },
    {
      "cell_type": "code",
      "metadata": {
        "colab": {
          "base_uri": "https://localhost:8080/"
        },
        "id": "DN2-8ymiTGnE",
        "outputId": "42133587-383f-421a-b94d-0bc15ca4cf01"
      },
      "source": [
        "targets "
      ],
      "execution_count": 6,
      "outputs": [
        {
          "output_type": "execute_result",
          "data": {
            "text/plain": [
              "tensor([[ 56.,  70.],\n",
              "        [ 81., 101.],\n",
              "        [119., 133.],\n",
              "        [ 22.,  37.],\n",
              "        [103., 119.],\n",
              "        [ 57.,  69.],\n",
              "        [ 80., 102.],\n",
              "        [118., 132.],\n",
              "        [ 21.,  38.],\n",
              "        [104., 118.],\n",
              "        [ 57.,  69.],\n",
              "        [ 82., 100.],\n",
              "        [118., 134.],\n",
              "        [ 20.,  38.],\n",
              "        [102., 120.]])"
            ]
          },
          "metadata": {
            "tags": []
          },
          "execution_count": 6
        }
      ]
    },
    {
      "cell_type": "markdown",
      "metadata": {
        "id": "pRr8q4kSW7Xa"
      },
      "source": [
        "###Dataset and DataLoader"
      ]
    },
    {
      "cell_type": "code",
      "metadata": {
        "id": "mP1bbq7-TIYr"
      },
      "source": [
        "from torch.utils.data import TensorDataset"
      ],
      "execution_count": 7,
      "outputs": []
    },
    {
      "cell_type": "code",
      "metadata": {
        "colab": {
          "base_uri": "https://localhost:8080/"
        },
        "id": "4apvLVwTKISi",
        "outputId": "894b5798-680c-416c-9b41-f3b870e39311"
      },
      "source": [
        "# define dataset\n",
        "train_ds = TensorDataset(inputs, targets)\n",
        "train_ds[0:3]"
      ],
      "execution_count": 8,
      "outputs": [
        {
          "output_type": "execute_result",
          "data": {
            "text/plain": [
              "(tensor([[ 73.,  67.,  43.],\n",
              "         [ 91.,  88.,  64.],\n",
              "         [ 87., 134.,  58.]]), tensor([[ 56.,  70.],\n",
              "         [ 81., 101.],\n",
              "         [119., 133.]]))"
            ]
          },
          "metadata": {
            "tags": []
          },
          "execution_count": 8
        }
      ]
    },
    {
      "cell_type": "code",
      "metadata": {
        "id": "Il5ob86_Knpf"
      },
      "source": [
        "from torch.utils.data import DataLoader\n"
      ],
      "execution_count": 9,
      "outputs": []
    },
    {
      "cell_type": "code",
      "metadata": {
        "id": "OKFm5YmdK-we"
      },
      "source": [
        "# Define data Loader\n",
        "batch_size = 5\n",
        "train_dl = DataLoader(train_ds, batch_size, shuffle=True)"
      ],
      "execution_count": 10,
      "outputs": []
    },
    {
      "cell_type": "code",
      "metadata": {
        "colab": {
          "base_uri": "https://localhost:8080/"
        },
        "id": "1oPo0kB0LzOi",
        "outputId": "2a82781c-6aa8-479b-86b7-da7edb98aa27"
      },
      "source": [
        "for xb, yb in train_dl:\n",
        "  print(xb)\n",
        "  print(yb)\n",
        "  break"
      ],
      "execution_count": 11,
      "outputs": [
        {
          "output_type": "stream",
          "text": [
            "tensor([[ 69.,  96.,  70.],\n",
            "        [ 68.,  97.,  70.],\n",
            "        [ 88., 134.,  59.],\n",
            "        [ 68.,  96.,  71.],\n",
            "        [101.,  44.,  37.]])\n",
            "tensor([[103., 119.],\n",
            "        [102., 120.],\n",
            "        [118., 132.],\n",
            "        [104., 118.],\n",
            "        [ 21.,  38.]])\n"
          ],
          "name": "stdout"
        }
      ]
    },
    {
      "cell_type": "markdown",
      "metadata": {
        "id": "IQ72JFvcQqDD"
      },
      "source": [
        "###nn.Linear"
      ]
    },
    {
      "cell_type": "code",
      "metadata": {
        "colab": {
          "base_uri": "https://localhost:8080/"
        },
        "id": "gzHz1_VWOOH8",
        "outputId": "d86aa1c2-74c7-484c-d1fa-d46380848a65"
      },
      "source": [
        "# Define Model\n",
        "model = nn.Linear(3, 2)\n",
        "print(model.weight)\n",
        "print(model.bias)"
      ],
      "execution_count": 12,
      "outputs": [
        {
          "output_type": "stream",
          "text": [
            "Parameter containing:\n",
            "tensor([[-0.3527,  0.4234,  0.2645],\n",
            "        [ 0.3583,  0.5712, -0.0950]], requires_grad=True)\n",
            "Parameter containing:\n",
            "tensor([-0.4586, -0.1079], requires_grad=True)\n"
          ],
          "name": "stdout"
        }
      ]
    },
    {
      "cell_type": "code",
      "metadata": {
        "colab": {
          "base_uri": "https://localhost:8080/"
        },
        "id": "OsWiZMgmRcJV",
        "outputId": "66007e18-6408-4d6a-e8c7-8ac0678cc4e2"
      },
      "source": [
        "# Parameters\n",
        "list(model.parameters())"
      ],
      "execution_count": 13,
      "outputs": [
        {
          "output_type": "execute_result",
          "data": {
            "text/plain": [
              "[Parameter containing:\n",
              " tensor([[-0.3527,  0.4234,  0.2645],\n",
              "         [ 0.3583,  0.5712, -0.0950]], requires_grad=True),\n",
              " Parameter containing:\n",
              " tensor([-0.4586, -0.1079], requires_grad=True)]"
            ]
          },
          "metadata": {
            "tags": []
          },
          "execution_count": 13
        }
      ]
    },
    {
      "cell_type": "code",
      "metadata": {
        "colab": {
          "base_uri": "https://localhost:8080/"
        },
        "id": "0mxR7C6iRi00",
        "outputId": "40a14114-af86-4351-979a-ea6771a1aa89"
      },
      "source": [
        "preds = model(inputs)\n",
        "preds"
      ],
      "execution_count": 14,
      "outputs": [
        {
          "output_type": "execute_result",
          "data": {
            "text/plain": [
              "tensor([[ 13.5331,  60.2313],\n",
              "        [ 21.6296,  76.6806],\n",
              "        [ 40.9296, 102.0922],\n",
              "        [ -8.4443,  57.4824],\n",
              "        [ 34.3636,  72.7984],\n",
              "        [ 12.7570,  60.0184],\n",
              "        [ 21.4707,  76.0145],\n",
              "        [ 40.8414, 102.3555],\n",
              "        [ -7.6682,  57.6953],\n",
              "        [ 34.9808,  72.3451],\n",
              "        [ 13.3742,  59.5652],\n",
              "        [ 20.8535,  76.4677],\n",
              "        [ 41.0885, 102.7584],\n",
              "        [ -9.0615,  57.9357],\n",
              "        [ 35.1397,  73.0113]], grad_fn=<AddmmBackward>)"
            ]
          },
          "metadata": {
            "tags": []
          },
          "execution_count": 14
        }
      ]
    },
    {
      "cell_type": "markdown",
      "metadata": {
        "id": "3sBFBCJaRxTr"
      },
      "source": [
        "###Loss Function\n"
      ]
    },
    {
      "cell_type": "code",
      "metadata": {
        "id": "BjerTefmRrzH"
      },
      "source": [
        "# Loss Function\n",
        "import torch.nn.functional as F\n"
      ],
      "execution_count": 15,
      "outputs": []
    },
    {
      "cell_type": "code",
      "metadata": {
        "id": "DFh2ZhyUR9Mn"
      },
      "source": [
        "# Define Loss Function\n",
        "loss_fn = F.mse_loss"
      ],
      "execution_count": 16,
      "outputs": []
    },
    {
      "cell_type": "code",
      "metadata": {
        "colab": {
          "base_uri": "https://localhost:8080/"
        },
        "id": "rJ2tFIgXSEai",
        "outputId": "d087dd51-2367-4597-b351-819b64e92c74"
      },
      "source": [
        "loss = loss_fn(model(inputs), targets)\n",
        "loss"
      ],
      "execution_count": 17,
      "outputs": [
        {
          "output_type": "execute_result",
          "data": {
            "text/plain": [
              "tensor(2112.7656, grad_fn=<MseLossBackward>)"
            ]
          },
          "metadata": {
            "tags": []
          },
          "execution_count": 17
        }
      ]
    },
    {
      "cell_type": "markdown",
      "metadata": {
        "id": "kXVq4V9tSSrs"
      },
      "source": [
        "### Optimisers"
      ]
    },
    {
      "cell_type": "code",
      "metadata": {
        "id": "6_fAEvCaSPr7"
      },
      "source": [
        "# Define Optimiser\n",
        "opt = torch.optim.SGD(model.parameters(), lr = 1e-5)"
      ],
      "execution_count": 18,
      "outputs": []
    },
    {
      "cell_type": "markdown",
      "metadata": {
        "id": "OFfZfEYMS2Eq"
      },
      "source": [
        "### Train Model"
      ]
    },
    {
      "cell_type": "code",
      "metadata": {
        "id": "WnHizHF1Sx7T"
      },
      "source": [
        "# Utility function to train the model\n",
        "def fit(num_epochs, model, loss_fn, opt, train_dl):\n",
        "    \n",
        "    # Repeat for given number of epochs\n",
        "    for epoch in range(num_epochs):\n",
        "        \n",
        "        # Train with batches of data\n",
        "        for xb,yb in train_dl:\n",
        "            \n",
        "            # 1. Generate predictions\n",
        "            pred = model(xb)\n",
        "            \n",
        "            # 2. Calculate loss\n",
        "            loss = loss_fn(pred, yb)\n",
        "            \n",
        "            # 3. Compute gradients\n",
        "            loss.backward()\n",
        "            \n",
        "            # 4. Update parameters using gradients\n",
        "            opt.step()\n",
        "            \n",
        "            # 5. Reset the gradients to zero\n",
        "            opt.zero_grad()\n",
        "        \n",
        "        # Print the progress\n",
        "        if (epoch+1) % 10 == 0:\n",
        "            print('Epoch [{}/{}], Loss: {:.4f}'.format(epoch+1, num_epochs, loss.item()))"
      ],
      "execution_count": 22,
      "outputs": []
    },
    {
      "cell_type": "code",
      "metadata": {
        "colab": {
          "base_uri": "https://localhost:8080/"
        },
        "id": "5k1LfTZ1VT5y",
        "outputId": "025ebb78-6977-4836-d57e-31edfbd8961d"
      },
      "source": [
        "fit(100, model, loss_fn, opt, train_dl)"
      ],
      "execution_count": 23,
      "outputs": [
        {
          "output_type": "stream",
          "text": [
            "Epoch [10/100], Loss: 75.8673\n",
            "Epoch [20/100], Loss: 135.5262\n",
            "Epoch [30/100], Loss: 163.4100\n",
            "Epoch [40/100], Loss: 124.4512\n",
            "Epoch [50/100], Loss: 65.1787\n",
            "Epoch [60/100], Loss: 34.3294\n",
            "Epoch [70/100], Loss: 44.4280\n",
            "Epoch [80/100], Loss: 31.7434\n",
            "Epoch [90/100], Loss: 56.8022\n",
            "Epoch [100/100], Loss: 51.0257\n"
          ],
          "name": "stdout"
        }
      ]
    },
    {
      "cell_type": "code",
      "metadata": {
        "colab": {
          "base_uri": "https://localhost:8080/"
        },
        "id": "9cYZ3V_gVe9x",
        "outputId": "7701b707-1718-4769-ce76-4bd84932b740"
      },
      "source": [
        "# Generate predictions\n",
        "preds = model(inputs)\n",
        "preds"
      ],
      "execution_count": 24,
      "outputs": [
        {
          "output_type": "execute_result",
          "data": {
            "text/plain": [
              "tensor([[ 57.4742,  71.9637],\n",
              "        [ 81.1700,  96.6553],\n",
              "        [119.7314, 140.5975],\n",
              "        [ 23.8490,  45.2940],\n",
              "        [ 98.4708, 107.2159],\n",
              "        [ 56.2722,  70.9249],\n",
              "        [ 80.8177,  95.9158],\n",
              "        [119.9347, 140.7832],\n",
              "        [ 25.0511,  46.3328],\n",
              "        [ 99.3206, 107.5153],\n",
              "        [ 57.1219,  71.2242],\n",
              "        [ 79.9679,  95.6165],\n",
              "        [120.0837, 141.3370],\n",
              "        [ 22.9993,  44.9946],\n",
              "        [ 99.6729, 108.2547]], grad_fn=<AddmmBackward>)"
            ]
          },
          "metadata": {
            "tags": []
          },
          "execution_count": 24
        }
      ]
    },
    {
      "cell_type": "code",
      "metadata": {
        "colab": {
          "base_uri": "https://localhost:8080/"
        },
        "id": "edmyW74MVjzq",
        "outputId": "eef2b7f3-f15c-4d90-b631-1978c51669e1"
      },
      "source": [
        "# Compare with targets\n",
        "targets"
      ],
      "execution_count": 25,
      "outputs": [
        {
          "output_type": "execute_result",
          "data": {
            "text/plain": [
              "tensor([[ 56.,  70.],\n",
              "        [ 81., 101.],\n",
              "        [119., 133.],\n",
              "        [ 22.,  37.],\n",
              "        [103., 119.],\n",
              "        [ 57.,  69.],\n",
              "        [ 80., 102.],\n",
              "        [118., 132.],\n",
              "        [ 21.,  38.],\n",
              "        [104., 118.],\n",
              "        [ 57.,  69.],\n",
              "        [ 82., 100.],\n",
              "        [118., 134.],\n",
              "        [ 20.,  38.],\n",
              "        [102., 120.]])"
            ]
          },
          "metadata": {
            "tags": []
          },
          "execution_count": 25
        }
      ]
    },
    {
      "cell_type": "code",
      "metadata": {
        "colab": {
          "base_uri": "https://localhost:8080/"
        },
        "id": "P-iRSs5nVnHw",
        "outputId": "cc2f6128-3ea7-4d06-ed4a-d7aeaa4caeb3"
      },
      "source": [
        "model(torch.tensor([[75, 63, 44.]]))"
      ],
      "execution_count": 26,
      "outputs": [
        {
          "output_type": "execute_result",
          "data": {
            "text/plain": [
              "tensor([[53.8389, 68.1647]], grad_fn=<AddmmBackward>)"
            ]
          },
          "metadata": {
            "tags": []
          },
          "execution_count": 26
        }
      ]
    },
    {
      "cell_type": "code",
      "metadata": {
        "id": "MefHlir_Vt06"
      },
      "source": [
        ""
      ],
      "execution_count": null,
      "outputs": []
    }
  ]
}